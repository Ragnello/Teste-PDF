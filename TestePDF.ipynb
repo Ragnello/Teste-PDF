{
 "cells": [
  {
   "cell_type": "code",
   "execution_count": 4,
   "metadata": {},
   "outputs": [
    {
     "name": "stdout",
     "output_type": "stream",
     "text": [
      "Requirement already satisfied: python-dotenv in c:\\users\\03605463150\\appdata\\local\\programs\\python\\python312\\lib\\site-packages (1.0.1)\n",
      "Requirement already satisfied: llama-parse in c:\\users\\03605463150\\appdata\\local\\programs\\python\\python312\\lib\\site-packages (0.5.5)\n",
      "Requirement already satisfied: llama-index-core>=0.11.0 in c:\\users\\03605463150\\appdata\\local\\programs\\python\\python312\\lib\\site-packages (from llama-parse) (0.11.9)\n",
      "Requirement already satisfied: PyYAML>=6.0.1 in c:\\users\\03605463150\\appdata\\local\\programs\\python\\python312\\lib\\site-packages (from llama-index-core>=0.11.0->llama-parse) (6.0.2)\n",
      "Requirement already satisfied: SQLAlchemy>=1.4.49 in c:\\users\\03605463150\\appdata\\local\\programs\\python\\python312\\lib\\site-packages (from SQLAlchemy[asyncio]>=1.4.49->llama-index-core>=0.11.0->llama-parse) (2.0.34)\n",
      "Requirement already satisfied: aiohttp<4.0.0,>=3.8.6 in c:\\users\\03605463150\\appdata\\local\\programs\\python\\python312\\lib\\site-packages (from llama-index-core>=0.11.0->llama-parse) (3.10.5)\n",
      "Requirement already satisfied: dataclasses-json in c:\\users\\03605463150\\appdata\\local\\programs\\python\\python312\\lib\\site-packages (from llama-index-core>=0.11.0->llama-parse) (0.6.7)\n",
      "Requirement already satisfied: deprecated>=1.2.9.3 in c:\\users\\03605463150\\appdata\\local\\programs\\python\\python312\\lib\\site-packages (from llama-index-core>=0.11.0->llama-parse) (1.2.14)\n",
      "Requirement already satisfied: dirtyjson<2.0.0,>=1.0.8 in c:\\users\\03605463150\\appdata\\local\\programs\\python\\python312\\lib\\site-packages (from llama-index-core>=0.11.0->llama-parse) (1.0.8)\n",
      "Requirement already satisfied: fsspec>=2023.5.0 in c:\\users\\03605463150\\appdata\\local\\programs\\python\\python312\\lib\\site-packages (from llama-index-core>=0.11.0->llama-parse) (2024.9.0)\n",
      "Requirement already satisfied: httpx in c:\\users\\03605463150\\appdata\\local\\programs\\python\\python312\\lib\\site-packages (from llama-index-core>=0.11.0->llama-parse) (0.27.2)\n",
      "Requirement already satisfied: nest-asyncio<2.0.0,>=1.5.8 in c:\\users\\03605463150\\appdata\\roaming\\python\\python312\\site-packages (from llama-index-core>=0.11.0->llama-parse) (1.6.0)\n",
      "Requirement already satisfied: networkx>=3.0 in c:\\users\\03605463150\\appdata\\local\\programs\\python\\python312\\lib\\site-packages (from llama-index-core>=0.11.0->llama-parse) (3.3)\n",
      "Requirement already satisfied: nltk>3.8.1 in c:\\users\\03605463150\\appdata\\local\\programs\\python\\python312\\lib\\site-packages (from llama-index-core>=0.11.0->llama-parse) (3.9.1)\n",
      "Requirement already satisfied: numpy<2.0.0 in c:\\users\\03605463150\\appdata\\local\\programs\\python\\python312\\lib\\site-packages (from llama-index-core>=0.11.0->llama-parse) (1.26.4)\n",
      "Requirement already satisfied: pillow>=9.0.0 in c:\\users\\03605463150\\appdata\\local\\programs\\python\\python312\\lib\\site-packages (from llama-index-core>=0.11.0->llama-parse) (10.4.0)\n",
      "Requirement already satisfied: pydantic<3.0.0,>=2.7.0 in c:\\users\\03605463150\\appdata\\local\\programs\\python\\python312\\lib\\site-packages (from llama-index-core>=0.11.0->llama-parse) (2.9.1)\n",
      "Requirement already satisfied: requests>=2.31.0 in c:\\users\\03605463150\\appdata\\local\\programs\\python\\python312\\lib\\site-packages (from llama-index-core>=0.11.0->llama-parse) (2.32.3)\n",
      "Requirement already satisfied: tenacity!=8.4.0,<9.0.0,>=8.2.0 in c:\\users\\03605463150\\appdata\\local\\programs\\python\\python312\\lib\\site-packages (from llama-index-core>=0.11.0->llama-parse) (8.5.0)\n",
      "Requirement already satisfied: tiktoken>=0.3.3 in c:\\users\\03605463150\\appdata\\local\\programs\\python\\python312\\lib\\site-packages (from llama-index-core>=0.11.0->llama-parse) (0.7.0)\n",
      "Requirement already satisfied: tqdm<5.0.0,>=4.66.1 in c:\\users\\03605463150\\appdata\\local\\programs\\python\\python312\\lib\\site-packages (from llama-index-core>=0.11.0->llama-parse) (4.66.5)\n",
      "Requirement already satisfied: typing-extensions>=4.5.0 in c:\\users\\03605463150\\appdata\\local\\programs\\python\\python312\\lib\\site-packages (from llama-index-core>=0.11.0->llama-parse) (4.12.2)\n",
      "Requirement already satisfied: typing-inspect>=0.8.0 in c:\\users\\03605463150\\appdata\\local\\programs\\python\\python312\\lib\\site-packages (from llama-index-core>=0.11.0->llama-parse) (0.9.0)\n",
      "Requirement already satisfied: wrapt in c:\\users\\03605463150\\appdata\\local\\programs\\python\\python312\\lib\\site-packages (from llama-index-core>=0.11.0->llama-parse) (1.16.0)\n",
      "Requirement already satisfied: aiohappyeyeballs>=2.3.0 in c:\\users\\03605463150\\appdata\\local\\programs\\python\\python312\\lib\\site-packages (from aiohttp<4.0.0,>=3.8.6->llama-index-core>=0.11.0->llama-parse) (2.4.0)\n",
      "Requirement already satisfied: aiosignal>=1.1.2 in c:\\users\\03605463150\\appdata\\local\\programs\\python\\python312\\lib\\site-packages (from aiohttp<4.0.0,>=3.8.6->llama-index-core>=0.11.0->llama-parse) (1.3.1)\n",
      "Requirement already satisfied: attrs>=17.3.0 in c:\\users\\03605463150\\appdata\\local\\programs\\python\\python312\\lib\\site-packages (from aiohttp<4.0.0,>=3.8.6->llama-index-core>=0.11.0->llama-parse) (24.2.0)\n",
      "Requirement already satisfied: frozenlist>=1.1.1 in c:\\users\\03605463150\\appdata\\local\\programs\\python\\python312\\lib\\site-packages (from aiohttp<4.0.0,>=3.8.6->llama-index-core>=0.11.0->llama-parse) (1.4.1)\n",
      "Requirement already satisfied: multidict<7.0,>=4.5 in c:\\users\\03605463150\\appdata\\local\\programs\\python\\python312\\lib\\site-packages (from aiohttp<4.0.0,>=3.8.6->llama-index-core>=0.11.0->llama-parse) (6.1.0)\n",
      "Requirement already satisfied: yarl<2.0,>=1.0 in c:\\users\\03605463150\\appdata\\local\\programs\\python\\python312\\lib\\site-packages (from aiohttp<4.0.0,>=3.8.6->llama-index-core>=0.11.0->llama-parse) (1.11.1)\n",
      "Requirement already satisfied: click in c:\\users\\03605463150\\appdata\\local\\programs\\python\\python312\\lib\\site-packages (from nltk>3.8.1->llama-index-core>=0.11.0->llama-parse) (8.1.7)\n",
      "Requirement already satisfied: joblib in c:\\users\\03605463150\\appdata\\local\\programs\\python\\python312\\lib\\site-packages (from nltk>3.8.1->llama-index-core>=0.11.0->llama-parse) (1.4.2)\n",
      "Requirement already satisfied: regex>=2021.8.3 in c:\\users\\03605463150\\appdata\\local\\programs\\python\\python312\\lib\\site-packages (from nltk>3.8.1->llama-index-core>=0.11.0->llama-parse) (2024.9.11)\n",
      "Requirement already satisfied: annotated-types>=0.6.0 in c:\\users\\03605463150\\appdata\\local\\programs\\python\\python312\\lib\\site-packages (from pydantic<3.0.0,>=2.7.0->llama-index-core>=0.11.0->llama-parse) (0.7.0)\n",
      "Requirement already satisfied: pydantic-core==2.23.3 in c:\\users\\03605463150\\appdata\\local\\programs\\python\\python312\\lib\\site-packages (from pydantic<3.0.0,>=2.7.0->llama-index-core>=0.11.0->llama-parse) (2.23.3)\n",
      "Requirement already satisfied: charset-normalizer<4,>=2 in c:\\users\\03605463150\\appdata\\local\\programs\\python\\python312\\lib\\site-packages (from requests>=2.31.0->llama-index-core>=0.11.0->llama-parse) (3.3.2)\n",
      "Requirement already satisfied: idna<4,>=2.5 in c:\\users\\03605463150\\appdata\\local\\programs\\python\\python312\\lib\\site-packages (from requests>=2.31.0->llama-index-core>=0.11.0->llama-parse) (3.7)\n",
      "Requirement already satisfied: urllib3<3,>=1.21.1 in c:\\users\\03605463150\\appdata\\local\\programs\\python\\python312\\lib\\site-packages (from requests>=2.31.0->llama-index-core>=0.11.0->llama-parse) (2.2.2)\n",
      "Requirement already satisfied: certifi>=2017.4.17 in c:\\users\\03605463150\\appdata\\local\\programs\\python\\python312\\lib\\site-packages (from requests>=2.31.0->llama-index-core>=0.11.0->llama-parse) (2024.7.4)\n",
      "Requirement already satisfied: greenlet!=0.4.17 in c:\\users\\03605463150\\appdata\\local\\programs\\python\\python312\\lib\\site-packages (from SQLAlchemy>=1.4.49->SQLAlchemy[asyncio]>=1.4.49->llama-index-core>=0.11.0->llama-parse) (3.1.0)\n",
      "Requirement already satisfied: colorama in c:\\users\\03605463150\\appdata\\roaming\\python\\python312\\site-packages (from tqdm<5.0.0,>=4.66.1->llama-index-core>=0.11.0->llama-parse) (0.4.6)\n",
      "Requirement already satisfied: mypy-extensions>=0.3.0 in c:\\users\\03605463150\\appdata\\local\\programs\\python\\python312\\lib\\site-packages (from typing-inspect>=0.8.0->llama-index-core>=0.11.0->llama-parse) (1.0.0)\n",
      "Requirement already satisfied: marshmallow<4.0.0,>=3.18.0 in c:\\users\\03605463150\\appdata\\local\\programs\\python\\python312\\lib\\site-packages (from dataclasses-json->llama-index-core>=0.11.0->llama-parse) (3.22.0)\n",
      "Requirement already satisfied: anyio in c:\\users\\03605463150\\appdata\\local\\programs\\python\\python312\\lib\\site-packages (from httpx->llama-index-core>=0.11.0->llama-parse) (4.4.0)\n",
      "Requirement already satisfied: httpcore==1.* in c:\\users\\03605463150\\appdata\\local\\programs\\python\\python312\\lib\\site-packages (from httpx->llama-index-core>=0.11.0->llama-parse) (1.0.5)\n",
      "Requirement already satisfied: sniffio in c:\\users\\03605463150\\appdata\\local\\programs\\python\\python312\\lib\\site-packages (from httpx->llama-index-core>=0.11.0->llama-parse) (1.3.1)\n",
      "Requirement already satisfied: h11<0.15,>=0.13 in c:\\users\\03605463150\\appdata\\local\\programs\\python\\python312\\lib\\site-packages (from httpcore==1.*->httpx->llama-index-core>=0.11.0->llama-parse) (0.14.0)\n",
      "Requirement already satisfied: packaging>=17.0 in c:\\users\\03605463150\\appdata\\roaming\\python\\python312\\site-packages (from marshmallow<4.0.0,>=3.18.0->dataclasses-json->llama-index-core>=0.11.0->llama-parse) (24.1)\n",
      "Note: you may need to restart the kernel to use updated packages.\n"
     ]
    }
   ],
   "source": [
    "%pip install python-dotenv llama-parse\n",
    "\n",
    "import os\n",
    "from llama_parse import LlamaParse"
   ]
  },
  {
   "cell_type": "code",
   "execution_count": 5,
   "metadata": {},
   "outputs": [],
   "source": [
    "import nest_asyncio\n",
    "nest_asyncio.apply()"
   ]
  },
  {
   "cell_type": "code",
   "execution_count": 6,
   "metadata": {},
   "outputs": [
    {
     "name": "stdout",
     "output_type": "stream",
     "text": [
      "Started parsing the file under job_id 3be22460-56fd-443a-96bf-35bcdc992dd2\n",
      "18\n"
     ]
    }
   ],
   "source": [
    "os.environ[\"LLAMA_CLOUD_API_KEY\"] = \"llx-Vd2XDaZuzQC9lPWqUD942greU98GyoPGzIfMzEqmNKxW7ImZ\"\n",
    "\n",
    "documentos = LlamaParse(result_type=\"markdown\", \n",
    "                        parsing_instruction=\"this file contains text and tables, I'd like to get only the tables from the text\").load_data(\"resultado.pdf\")\n",
    "\n",
    "print(len(documentos))"
   ]
  },
  {
   "cell_type": "code",
   "execution_count": 7,
   "metadata": {},
   "outputs": [],
   "source": [
    "for i, pagina in enumerate(documentos):\n",
    "    with open(f\"PaginasPDF/pagina{i+1}.md\", \"w\", encoding=\"utf-8\") as arquivo:\n",
    "        arquivo.write(pagina.text)"
   ]
  },
  {
   "cell_type": "code",
   "execution_count": 8,
   "metadata": {},
   "outputs": [],
   "source": [
    "import re\n",
    "import pandas as pd\n",
    "import openpyxl"
   ]
  },
  {
   "cell_type": "code",
   "execution_count": 9,
   "metadata": {},
   "outputs": [
    {
     "name": "stdout",
     "output_type": "stream",
     "text": [
      "|Produção de óleo, LGN e gás natural – Brasil (Mboed)|2T24|1T24|2T23|1S24|1S23|2T24 X 1T24 (%)|2T24 X 2T23 (%)|1S24 X 1S23 (%)|\n",
      "|---|---|---|---|---|---|---|---|---|\n",
      "|Produção de óleo, LGN e gás natural|2.664|2.742|2.603|2.703|2.621|(2,8)|2,3|3,1|\n",
      "|Óleo e LGN (Mbpd)|2.156|2.236|2.102|2.196|2.121|(3,6)|2,6|3,5|\n",
      "|Terra e águas rasas|35|35|48|35|52|−|(27,1)|(32,7)|\n",
      "|Pós-sal profundo e ultra profundo|306|343|346|325|364|(10,8)|(11,6)|(10,7)|\n",
      "|Pré-sal|1.815|1.857|1.708|1.836|1.705|(2,3)|6,3|7,7|\n",
      "|Gás natural (Mboed)|508|507|501|507|500|0,2|1,4|1,4|\n",
      "\n",
      "|Produção total (Mboed)|2T24|1T24|2T23|1S24|1S23|2T24 X 1T24 (%)|2T24 X 2T23 (%)|1S24 X 1S23 (%)|\n",
      "|---|---|---|---|---|---|---|---|---|\n",
      "|Produção total|2.699|2.776|2.637|2.737|2.657|(2,8)|2,4|3,0|\n",
      "|Produção total comercial|2.356|2.428|2.312|2.392|2.332|(3,0)|1,9|2,6|\n",
      "|Produção total operada|3.737|3.855|3.693|3.796|3.719|(3,1)|1,2|2,1|\n"
     ]
    }
   ],
   "source": [
    "pasta = \"PaginasPDF\"\n",
    "\n",
    "#for i, paginas in enumerate(pasta):\n",
    "#    with open (f\"{pasta}/pagina{i+1}.md\", \"r\", encoding=\"utf-8\") as arquivo:\n",
    "#        texto = arquivo.read()\n",
    "\n",
    "with open (f\"{pasta}/pagina4.md\", \"r\", encoding=\"utf-8\") as arquivo:\n",
    "        texto = arquivo.read()\n",
    "\n",
    "print(texto)"
   ]
  },
  {
   "cell_type": "code",
   "execution_count": 11,
   "metadata": {},
   "outputs": [],
   "source": [
    "def tratar_tabelas(texto):\n",
    "    regra = re.compile(r'((?:\\|.+\\|(?:\\n|\\r))+)', re.MULTILINE)\n",
    "    tabelas = regra.findall(texto)\n",
    "    return tabelas"
   ]
  },
  {
   "cell_type": "code",
   "execution_count": 2,
   "metadata": {},
   "outputs": [],
   "source": [
    "def transf_mk_excel(texto):\n",
    "    tabelas = tratar_tabelas(texto)\n",
    "    print(len(tabelas))\n",
    "\n",
    "    if len(tabelas > 0):\n",
    "        #ler tabela\n",
    "        # salvar em excel\n",
    "        pass"
   ]
  },
  {
   "cell_type": "code",
   "execution_count": null,
   "metadata": {},
   "outputs": [],
   "source": []
  }
 ],
 "metadata": {
  "kernelspec": {
   "display_name": "Python 3",
   "language": "python",
   "name": "python3"
  },
  "language_info": {
   "codemirror_mode": {
    "name": "ipython",
    "version": 3
   },
   "file_extension": ".py",
   "mimetype": "text/x-python",
   "name": "python",
   "nbconvert_exporter": "python",
   "pygments_lexer": "ipython3",
   "version": "3.12.4"
  }
 },
 "nbformat": 4,
 "nbformat_minor": 2
}
